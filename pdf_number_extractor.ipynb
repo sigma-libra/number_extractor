{
 "cells": [
  {
   "cell_type": "markdown",
   "id": "698b716d-68aa-46e6-95f0-8a24fdda7839",
   "metadata": {},
   "source": [
    "# PDF Number Extractor"
   ]
  },
  {
   "cell_type": "raw",
   "id": "f1f9fb12-bc4d-489a-8301-e3d409635e29",
   "metadata": {},
   "source": [
    "# Required installs\n",
    "pip install PyPDF2\n",
    "pip install numwords_to_nums\n",
    "pip install spacy\n",
    "python -m spacy download en_core_web_sm"
   ]
  },
  {
   "cell_type": "code",
   "execution_count": 5,
   "id": "008ac849-b8b1-494c-aae4-1cf2f3f57ab0",
   "metadata": {},
   "outputs": [],
   "source": [
    "import PyPDF2\n",
    "import spacy\n",
    "import re\n",
    "from numwords_to_nums.numwords_to_nums import NumWordsToNum"
   ]
  },
  {
   "cell_type": "code",
   "execution_count": 6,
   "id": "6df80ae3-056a-4256-b079-b95331c1be0d",
   "metadata": {},
   "outputs": [],
   "source": [
    "num = NumWordsToNum()\n",
    "nlp = spacy.load(\"en_core_web_sm\")"
   ]
  },
  {
   "cell_type": "code",
   "execution_count": 47,
   "id": "ed6a607a-a10c-4fbe-9c74-a6b92e1987e2",
   "metadata": {
    "scrolled": true
   },
   "outputs": [
    {
     "name": "stdout",
     "output_type": "stream",
     "text": [
      "Failed parsing: 1st 5\n",
      "Failed parsing: 1st 5\n",
      "Failed parsing: 1st\n",
      "Failed parsing: 2nd\n",
      "Failed parsing: 1st\n",
      "Failed parsing: first30\n",
      "Failed parsing: 1 3rd\n",
      "Failed parsing: 1.5.14.9\n",
      "Failed parsing: 3rd\n",
      "Failed parsing: 1st\n",
      "Biggest: 9600000000.0\n"
     ]
    }
   ],
   "source": [
    "def add_spaces_to_textual_number(number):\n",
    "    # Use regex to find the boundary between the numerical part and the textual part\n",
    "    number = re.sub(r'(\\d)([a-zA-Z])', r'\\1 \\2', number)\n",
    "    return number\n",
    "    \n",
    "def is_numeric(value):\n",
    "    # Check if the value is a number (integer or float)\n",
    "    try:\n",
    "        float(value)\n",
    "        return True\n",
    "    except ValueError:\n",
    "        return False\n",
    "\n",
    "\n",
    "def parse_number(number):\n",
    "    parsed_number_string = num.numerical_words_to_numbers(add_spaces_to_textual_number(number), convert_operator=True)\n",
    "    try: \n",
    "        return float(parsed_number_string)\n",
    "    except ValueError:\n",
    "        # Note: for production level code, this should be handled, but for a toy exercise like this, the small number of failures can easily be reviewed and discarded manually\n",
    "        print(\"Failed parsing: \" + parsed_number_string)\n",
    "        return 0\n",
    "\n",
    "def extract_numbers_from_text(text):\n",
    "    # Process the text with spaCy\n",
    "    doc = nlp(text)\n",
    "\n",
    "    string_numbers = []\n",
    "\n",
    "    parsed_number = \"\"\n",
    "    for token in doc:\n",
    "        next_fragment = token.text\n",
    "        if token.like_num is False and len(parsed_number) > 0:\n",
    "            string_numbers.append(parsed_number)\n",
    "            parsed_number = \"\"\n",
    "        elif token.like_num:\n",
    "            if \",\" in next_fragment:\n",
    "                string_numbers.append(next_fragment.replace(\",\", \"\"))\n",
    "            elif \".\" in next_fragment and \".\" in parsed_number:\n",
    "                string_numbers.append(parsed_number)\n",
    "                parsed_number = next_fragment\n",
    "                \n",
    "            else:\n",
    "                if not is_numeric(next_fragment) and len(parsed_number) > 0:\n",
    "                    parsed_number += \" \"\n",
    "                parsed_number += next_fragment\n",
    "\n",
    "    numbers = []\n",
    "    for number in string_numbers:\n",
    "        numbers.append(parse_number(number))\n",
    "            \n",
    "    return numbers\n",
    "\n",
    "def extract_numbers_from_pdf(pdf_path):\n",
    "    # Open the PDF file\n",
    "    with open(pdf_path, 'rb') as file:\n",
    "        # Initialize the PDF reader\n",
    "        reader = PyPDF2.PdfReader(file)\n",
    "\n",
    "        # Initialize a list to store all numbers\n",
    "        largest_number = None\n",
    "\n",
    "        # Iterate through each page\n",
    "        nb_pages = len(reader.pages)\n",
    "        for page_num in range(nb_pages):\n",
    "            # Get the page object\n",
    "            page = reader.pages[page_num]\n",
    "            # Extract text from the page\n",
    "            text = page.extract_text()\n",
    "            new_numbers = extract_numbers_from_text(text)\n",
    "            for nb in new_numbers:\n",
    "                if largest_number == None or nb > largest_number:\n",
    "                    largest_number = nb\n",
    "\n",
    "        return largest_number\n",
    "\n",
    "pdf_path = 'file.pdf'\n",
    "biggest = extract_numbers_from_pdf(pdf_path)\n",
    "print(\"Biggest: \" + str(biggest))\n"
   ]
  },
  {
   "cell_type": "code",
   "execution_count": null,
   "id": "d854e193-0d85-418e-8469-1f5fcaea0da8",
   "metadata": {},
   "outputs": [],
   "source": []
  }
 ],
 "metadata": {
  "kernelspec": {
   "display_name": "Python 3 (ipykernel)",
   "language": "python",
   "name": "python3"
  },
  "language_info": {
   "codemirror_mode": {
    "name": "ipython",
    "version": 3
   },
   "file_extension": ".py",
   "mimetype": "text/x-python",
   "name": "python",
   "nbconvert_exporter": "python",
   "pygments_lexer": "ipython3",
   "version": "3.10.12"
  }
 },
 "nbformat": 4,
 "nbformat_minor": 5
}
